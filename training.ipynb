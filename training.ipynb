{
  "cells": [
    {
      "cell_type": "code",
      "execution_count": 2,
      "metadata": {
        "colab": {
          "base_uri": "https://localhost:8080/"
        },
        "id": "FtyZq09Lki3d",
        "outputId": "47e76174-bcf0-4480-a22e-c1a4a2adff37"
      },
      "outputs": [
        {
          "name": "stdout",
          "output_type": "stream",
          "text": [
            "sklearn: 1.0.2\n",
            "numpy: 1.23.5\n"
          ]
        }
      ],
      "source": [
        "import sklearn, numpy as np\n",
        "print(\"sklearn:\", sklearn.__version__)\n",
        "print(\"numpy:\", np.__version__)"
      ]
    },
    {
      "cell_type": "code",
      "execution_count": 3,
      "metadata": {
        "id": "TgmH3q6NjCOL"
      },
      "outputs": [],
      "source": [
        "import joblib\n",
        "from sklearn.model_selection import train_test_split\n",
        "from sklearn.ensemble import RandomForestClassifier\n",
        "from sklearn.datasets import load_iris"
      ]
    },
    {
      "cell_type": "code",
      "execution_count": 4,
      "metadata": {
        "colab": {
          "base_uri": "https://localhost:8080/"
        },
        "id": "w0jyudOthlT0",
        "outputId": "46c764d9-1d21-4094-9b70-cc7d3de45032"
      },
      "outputs": [
        {
          "name": "stdout",
          "output_type": "stream",
          "text": [
            "['sepal length (cm)', 'sepal width (cm)', 'petal length (cm)', 'petal width (cm)']\n",
            "['setosa' 'versicolor' 'virginica']\n"
          ]
        }
      ],
      "source": [
        "# Load as a dictionary-like object\n",
        "iris = load_iris()\n",
        "\n",
        "# Features and labels\n",
        "X = iris.data       # shape (150, 4)\n",
        "y = iris.target     # shape (150,)\n",
        "\n",
        "# Metadata\n",
        "print(iris.feature_names)\n",
        "print(iris.target_names)"
      ]
    },
    {
      "cell_type": "code",
      "execution_count": 5,
      "metadata": {
        "id": "_TxcJ-p7jNd-"
      },
      "outputs": [],
      "source": [
        "X_train, X_test, y_train, y_test = train_test_split(\n",
        "    X, y, test_size=0.3, random_state=42, stratify=y\n",
        ")"
      ]
    },
    {
      "cell_type": "code",
      "execution_count": 6,
      "metadata": {
        "colab": {
          "base_uri": "https://localhost:8080/"
        },
        "id": "iLSMRzpejO6s",
        "outputId": "e8304c07-b3ad-4d9f-f82e-36a1df6ac545"
      },
      "outputs": [
        {
          "data": {
            "text/plain": [
              "((45, 4), (45,))"
            ]
          },
          "execution_count": 6,
          "metadata": {},
          "output_type": "execute_result"
        }
      ],
      "source": [
        "X_test.shape, y_test.shape"
      ]
    },
    {
      "cell_type": "code",
      "execution_count": 7,
      "metadata": {},
      "outputs": [],
      "source": [
        "np.save(\"X_test.npy\", X_test)\n",
        "np.save(\"y_test.npy\", y_test)"
      ]
    },
    {
      "cell_type": "code",
      "execution_count": 8,
      "metadata": {
        "id": "ij50S8JbjV2d"
      },
      "outputs": [],
      "source": [
        "rf1 = RandomForestClassifier(\n",
        "    n_estimators=12, \n",
        "    max_depth=3,\n",
        "    criterion=\"gini\",\n",
        "    random_state=42\n",
        ")"
      ]
    },
    {
      "cell_type": "code",
      "execution_count": 9,
      "metadata": {
        "id": "druUbAxajoj2"
      },
      "outputs": [],
      "source": [
        "\n",
        "rf2 = RandomForestClassifier(\n",
        "    n_estimators=24,\n",
        "    max_depth=3,\n",
        "    criterion=\"gini\",\n",
        "    random_state=42\n",
        ")"
      ]
    },
    {
      "cell_type": "code",
      "execution_count": 10,
      "metadata": {
        "id": "odn9RoKBjogP"
      },
      "outputs": [],
      "source": [
        "rf3 = RandomForestClassifier(\n",
        "    n_estimators=48,\n",
        "    max_depth=3,\n",
        "    criterion=\"gini\",\n",
        "    random_state=42\n",
        ")"
      ]
    },
    {
      "cell_type": "code",
      "execution_count": 11,
      "metadata": {
        "id": "IbDg78EcjoYH"
      },
      "outputs": [],
      "source": [
        "rf4 = RandomForestClassifier(\n",
        "    n_estimators=96,\n",
        "    max_depth=3,\n",
        "    criterion=\"gini\",\n",
        "    random_state=42\n",
        ")"
      ]
    },
    {
      "cell_type": "code",
      "execution_count": 13,
      "metadata": {
        "id": "MU5nlZD_jWeC"
      },
      "outputs": [
        {
          "name": "stdout",
          "output_type": "stream",
          "text": [
            "Model rf-12 trained – Accuracy: 0.911\n",
            "Model rf-24 trained – Accuracy: 0.911\n",
            "Model rf-48 trained – Accuracy: 0.889\n",
            "Model rf-96 trained – Accuracy: 0.911\n"
          ]
        }
      ],
      "source": [
        "models = [rf1, rf2, rf3, rf4]\n",
        "model_names = [\"rf-12\", \"rf-24\", \"rf-48\", \"rf-96\"]\n",
        "\n",
        "# Train and save with joblib\n",
        "for model, name in zip(models, model_names):\n",
        "    model.fit(X_train, y_train)\n",
        "    acc = model.score(X_test, y_test)\n",
        "    print(f\"Model {name} trained – Accuracy: {acc:.3f}\")\n",
        "\n",
        "    joblib.dump(model, f\"{name}.joblib\")"
      ]
    },
    {
      "cell_type": "code",
      "execution_count": null,
      "metadata": {},
      "outputs": [],
      "source": []
    }
  ],
  "metadata": {
    "colab": {
      "provenance": []
    },
    "kernelspec": {
      "display_name": "iris_env",
      "language": "python",
      "name": "python3"
    },
    "language_info": {
      "codemirror_mode": {
        "name": "ipython",
        "version": 3
      },
      "file_extension": ".py",
      "mimetype": "text/x-python",
      "name": "python",
      "nbconvert_exporter": "python",
      "pygments_lexer": "ipython3",
      "version": "3.10.18"
    }
  },
  "nbformat": 4,
  "nbformat_minor": 0
}
